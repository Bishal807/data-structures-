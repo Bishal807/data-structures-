{
  "nbformat": 4,
  "nbformat_minor": 0,
  "metadata": {
    "colab": {
      "provenance": []
    },
    "kernelspec": {
      "name": "python3",
      "display_name": "Python 3"
    },
    "language_info": {
      "name": "python"
    }
  },
  "cells": [
    {
      "cell_type": "markdown",
      "source": [
        "1.What are data structures, and why are they important?\n",
        "ans:Data structures are ways to organize and store data efficiently. They help in managing data, making it easier to access, modify, or analyze when solving problems.\n",
        "2.Explain the difference between mutable and immutable data types with examples?\n",
        "ans:Mutable data types, like lists, can be changed after creation. Immutable types, like strings or tuples, cannot be changed once created. For example, you can add items to a list but not to a tuple.\n",
        "3.What are the main differences between lists and tuples in Python?\n",
        "ans:Lists are mutable, so you can modify them, while tuples are immutable. Lists use more memory but are flexible, while tuples are faster and better for fixed data.\n",
        "4.Describe how dictionaries store data?\n",
        "ans:Dictionaries store data as key-value pairs. Each key is unique and maps to a specific value, like a label for the data.\n",
        "5.Why might you use a set instead of a list in Python?\n",
        "ans:.Sets are used when you need to store unique items and don’t care about the order. They’re also faster for checking membership.\n",
        "6.What is a string in Python, and how is it different from a list?\n",
        "ans:A string is a sequence of characters, while a list can hold any data type. Strings are immutable, but lists can be modified.\n",
        "7.How do tuples ensure data integrity in Python?\n",
        "ans:Tuples are immutable, so their values cannot be changed accidentally, which keeps the data consistent.\n",
        "8.What is a hash table, and how does it relate to dictionaries in Python?\n",
        "ans:A hash table is a structure that maps keys to values using a hash function. Dictionaries use hash tables for fast lookups.\n",
        "9.Can lists contain different data types in Python?\n",
        "ans:Yes, Python lists can hold items of different data types, like integers, strings, or even other lists.\n",
        "10.Explain why strings are immutable in Python.\n",
        "ans:Strings are immutable to save memory and ensure security. Changes create a new string instead of modifying the original.\n",
        "11.What advantages do dictionaries offer over lists for certain tasks?\n",
        "ans:Dictionaries are faster for lookups and are better when you need to map relationships, like IDs to names.\n",
        "12.Describe a scenario where using a tuple would be preferable over a list?\n",
        "ans:Use tuples for fixed data, like coordinates (x, y), because they don’t need modification and are faster.\n",
        "13.How do sets handle duplicate values in Python?\n",
        "ans:Sets automatically remove duplicates. If you add duplicates, only one copy is kept.\n",
        "14.How does the \"in\" keyword work differently for lists and dictionaries?\n",
        "ans:In lists, it checks if a value exists. In dictionaries, it checks for the presence of a key, not a value.\n",
        "15.Can you modify the elements of a tuple? Explain why or why not?\n",
        "ans:No, you can’t modify a tuple because it’s immutable. Once created, its values cannot be changed.\n",
        "16.What is a nested dictionary, and give an example of its use case?\n",
        "ans:A nested dictionary is a dictionary within another dictionary. It’s useful for complex data, like storing student details by ID.\n",
        "17.Describe the time complexity of accessing elements in a dictionary?\n",
        "ans:Accessing elements in a dictionary is O(1) on average because of the hash table structure.\n",
        "18.In what situations are lists preferred over dictionaries?\n",
        "ans:Lists are better when you only need ordered data or don’t need to associate keys with values.\n",
        "19.Why are dictionaries considered unordered, and how does that affect data retrieval?\n",
        "ans:Dictionaries don’t maintain the order of items (before Python 3.7). Data is retrieved by keys, not position.\n",
        "20.Explain the difference between a list and a dictionary in terms of data retrieval?\n",
        "ans:Lists retrieve data by index, while dictionaries retrieve data by key, making dictionaries faster for specific lookups."
      ],
      "metadata": {
        "id": "ZZTJwajvq691"
      }
    },
    {
      "cell_type": "code",
      "source": [
        "#Create a string with your name and print it:\n",
        "name = \"John\"\n",
        "print(name)\n"
      ],
      "metadata": {
        "colab": {
          "base_uri": "https://localhost:8080/"
        },
        "id": "OrnesrRms3Rc",
        "outputId": "36d1c998-a451-4424-d35d-164edcfbe9c9"
      },
      "execution_count": 1,
      "outputs": [
        {
          "output_type": "stream",
          "name": "stdout",
          "text": [
            "John\n"
          ]
        }
      ]
    },
    {
      "cell_type": "code",
      "source": [
        "#Find the length of the string \"Hello World\":\n",
        "s = \"Hello World\"\n",
        "print(len(s))\n"
      ],
      "metadata": {
        "colab": {
          "base_uri": "https://localhost:8080/"
        },
        "id": "90PpzqoPtCVy",
        "outputId": "f0be402c-f82c-4e90-a310-3027f9ac6230"
      },
      "execution_count": 2,
      "outputs": [
        {
          "output_type": "stream",
          "name": "stdout",
          "text": [
            "11\n"
          ]
        }
      ]
    },
    {
      "cell_type": "code",
      "source": [
        "#Slice the first 3 characters from \"Python Programming\":\n",
        "s = \"Python Programming\"\n",
        "print(s[:3])\n"
      ],
      "metadata": {
        "colab": {
          "base_uri": "https://localhost:8080/"
        },
        "id": "R-0zSYX-tHjX",
        "outputId": "b9d500ea-dfc2-4080-fc8b-df05447133b8"
      },
      "execution_count": 3,
      "outputs": [
        {
          "output_type": "stream",
          "name": "stdout",
          "text": [
            "Pyt\n"
          ]
        }
      ]
    },
    {
      "cell_type": "code",
      "source": [
        "#Convert \"hello\" to uppercase:\n",
        "#Copy code\n",
        "s = \"hello\"\n",
        "print(s.upper())"
      ],
      "metadata": {
        "colab": {
          "base_uri": "https://localhost:8080/"
        },
        "id": "0Llxf2g_tTAE",
        "outputId": "ca8057c3-e873-43b9-e369-69d12155729e"
      },
      "execution_count": 5,
      "outputs": [
        {
          "output_type": "stream",
          "name": "stdout",
          "text": [
            "HELLO\n"
          ]
        }
      ]
    },
    {
      "cell_type": "code",
      "source": [
        "#Replace \"apple\" with \"orange\" in \"I like apple\":\n",
        "s = \"I like apple\"\n",
        "print(s.replace(\"apple\", \"orange\"))\n"
      ],
      "metadata": {
        "colab": {
          "base_uri": "https://localhost:8080/"
        },
        "id": "Wn_uIOFAtc0b",
        "outputId": "1be42254-ae87-40ad-a6a9-09a9b22e5631"
      },
      "execution_count": 6,
      "outputs": [
        {
          "output_type": "stream",
          "name": "stdout",
          "text": [
            "I like orange\n"
          ]
        }
      ]
    },
    {
      "cell_type": "code",
      "source": [
        "#Create a list with numbers 1 to 5 and print it:\n",
        "numbers = [1, 2, 3, 4, 5]\n",
        "print(numbers)\n"
      ],
      "metadata": {
        "colab": {
          "base_uri": "https://localhost:8080/"
        },
        "id": "tqrvzOirtnE7",
        "outputId": "2c5041ef-2a8b-4cb0-f0be-00fd596c8029"
      },
      "execution_count": 7,
      "outputs": [
        {
          "output_type": "stream",
          "name": "stdout",
          "text": [
            "[1, 2, 3, 4, 5]\n"
          ]
        }
      ]
    },
    {
      "cell_type": "code",
      "source": [
        "#Append 10 to the list [1, 2, 3, 4]:\n",
        "numbers = [1, 2, 3, 4]\n",
        "numbers.append(10)\n",
        "print(numbers)\n"
      ],
      "metadata": {
        "colab": {
          "base_uri": "https://localhost:8080/"
        },
        "id": "KGRhlNJatwcb",
        "outputId": "65056998-b030-4252-8758-86b00e38fa2f"
      },
      "execution_count": 8,
      "outputs": [
        {
          "output_type": "stream",
          "name": "stdout",
          "text": [
            "[1, 2, 3, 4, 10]\n"
          ]
        }
      ]
    },
    {
      "cell_type": "code",
      "source": [
        "#Remove 3 from the list [1, 2, 3, 4, 5]:\n",
        "numbers = [1, 2, 3, 4, 5]\n",
        "numbers.remove(3)\n",
        "print(numbers)\n"
      ],
      "metadata": {
        "colab": {
          "base_uri": "https://localhost:8080/"
        },
        "id": "hN-OqN36t1py",
        "outputId": "fcb1a4bb-af99-4d64-eea0-b45244911c4f"
      },
      "execution_count": 9,
      "outputs": [
        {
          "output_type": "stream",
          "name": "stdout",
          "text": [
            "[1, 2, 4, 5]\n"
          ]
        }
      ]
    },
    {
      "cell_type": "code",
      "source": [
        "#Access the second element in the list ['a', 'b', 'c', 'd']:\n",
        "letters = ['a', 'b', 'c', 'd']\n",
        "print(letters[1])\n",
        "\n"
      ],
      "metadata": {
        "colab": {
          "base_uri": "https://localhost:8080/"
        },
        "id": "1rFdFsTit5Ub",
        "outputId": "cd091e48-c6eb-4632-ecb3-34a02bbaa958"
      },
      "execution_count": 10,
      "outputs": [
        {
          "output_type": "stream",
          "name": "stdout",
          "text": [
            "b\n"
          ]
        }
      ]
    },
    {
      "cell_type": "code",
      "source": [
        "#Reverse the list [10, 20, 30, 40, 50]:\n",
        "numbers = [10, 20, 30, 40, 50]\n",
        "numbers.reverse()\n",
        "print(numbers)\n"
      ],
      "metadata": {
        "colab": {
          "base_uri": "https://localhost:8080/"
        },
        "id": "1rZd-yAvuBAz",
        "outputId": "08d6483d-2313-4cb9-fc38-23318ca2df4a"
      },
      "execution_count": 11,
      "outputs": [
        {
          "output_type": "stream",
          "name": "stdout",
          "text": [
            "[50, 40, 30, 20, 10]\n"
          ]
        }
      ]
    },
    {
      "cell_type": "code",
      "source": [
        "#Create a tuple with elements 10, 20, 30 and print it:\n",
        "my_tuple = (10, 20, 30)\n",
        "print(my_tuple)\n"
      ],
      "metadata": {
        "colab": {
          "base_uri": "https://localhost:8080/"
        },
        "id": "JE_M0pRmuG2a",
        "outputId": "87e5b9b3-30e8-48bc-d135-530690b22697"
      },
      "execution_count": 12,
      "outputs": [
        {
          "output_type": "stream",
          "name": "stdout",
          "text": [
            "(10, 20, 30)\n"
          ]
        }
      ]
    },
    {
      "cell_type": "code",
      "source": [
        "#Access the first element of the tuple ('apple', 'banana', 'cherry'):\n",
        "fruits = ('apple', 'banana', 'cherry')\n",
        "print(fruits[0])\n"
      ],
      "metadata": {
        "colab": {
          "base_uri": "https://localhost:8080/"
        },
        "id": "hskXnydiuK8S",
        "outputId": "b94a795d-8c7a-4b1d-d148-d2cb09d50504"
      },
      "execution_count": 13,
      "outputs": [
        {
          "output_type": "stream",
          "name": "stdout",
          "text": [
            "apple\n"
          ]
        }
      ]
    },
    {
      "cell_type": "code",
      "source": [
        "#Count how many times 2 appears in the tuple (1, 2, 3, 2, 4, 2):\n",
        "numbers = (1, 2, 3, 2, 4, 2)\n",
        "print(numbers.count(2))\n"
      ],
      "metadata": {
        "colab": {
          "base_uri": "https://localhost:8080/"
        },
        "id": "KVrvf8-kuO3S",
        "outputId": "b2467035-dd40-4f0b-976f-fbb84b9459ab"
      },
      "execution_count": 14,
      "outputs": [
        {
          "output_type": "stream",
          "name": "stdout",
          "text": [
            "3\n"
          ]
        }
      ]
    },
    {
      "cell_type": "code",
      "source": [
        "#Find the index of \"cat\" in the tuple ('dog', 'cat', 'rabbit'):\n",
        "animals = ('dog', 'cat', 'rabbit')\n",
        "print(animals.index('cat'))\n",
        "\n"
      ],
      "metadata": {
        "colab": {
          "base_uri": "https://localhost:8080/"
        },
        "id": "CuWVduAkuTBq",
        "outputId": "ef936815-32b6-44f5-d54f-932118d17d58"
      },
      "execution_count": 15,
      "outputs": [
        {
          "output_type": "stream",
          "name": "stdout",
          "text": [
            "1\n"
          ]
        }
      ]
    },
    {
      "cell_type": "code",
      "source": [
        "#Check if \"banana\" is in the tuple ('apple', 'orange', 'banana'):\n",
        "fruits = ('apple', 'orange', 'banana')\n",
        "print('banana' in fruits)\n",
        "\n"
      ],
      "metadata": {
        "colab": {
          "base_uri": "https://localhost:8080/"
        },
        "id": "r_UVutlIuXBq",
        "outputId": "eb11f108-cc7d-4b8d-ddc0-300d4fce500b"
      },
      "execution_count": 16,
      "outputs": [
        {
          "output_type": "stream",
          "name": "stdout",
          "text": [
            "True\n"
          ]
        }
      ]
    },
    {
      "cell_type": "code",
      "source": [
        "#Create a set with elements 1, 2, 3, 4, 5 and print it:\n",
        "my_set = {1, 2, 3, 4, 5}\n",
        "print(my_set)\n"
      ],
      "metadata": {
        "colab": {
          "base_uri": "https://localhost:8080/"
        },
        "id": "oQdSIqSFuaeb",
        "outputId": "04762a10-dfcc-4690-943d-6ed5c8e8e80c"
      },
      "execution_count": 17,
      "outputs": [
        {
          "output_type": "stream",
          "name": "stdout",
          "text": [
            "{1, 2, 3, 4, 5}\n"
          ]
        }
      ]
    },
    {
      "cell_type": "code",
      "source": [
        "#Add 6 to the set {1, 2, 3, 4}:\n",
        "my_set = {1, 2, 3, 4}\n",
        "my_set.add(6)\n",
        "print(my_set)\n"
      ],
      "metadata": {
        "colab": {
          "base_uri": "https://localhost:8080/"
        },
        "id": "QiBXVDZgufHL",
        "outputId": "0c268001-f9ee-4cc6-f471-8b5212bce9b4"
      },
      "execution_count": 18,
      "outputs": [
        {
          "output_type": "stream",
          "name": "stdout",
          "text": [
            "{1, 2, 3, 4, 6}\n"
          ]
        }
      ]
    },
    {
      "cell_type": "code",
      "source": [
        "#Create a tuple with elements 10, 20, 30 and print it:\n",
        "my_tuple = (10, 20, 30)\n",
        "print(my_tuple)\n",
        "\n"
      ],
      "metadata": {
        "colab": {
          "base_uri": "https://localhost:8080/"
        },
        "id": "s8zrpsBWuioz",
        "outputId": "3e9ff23e-6ccf-41d7-9212-70ef6415e233"
      },
      "execution_count": 19,
      "outputs": [
        {
          "output_type": "stream",
          "name": "stdout",
          "text": [
            "(10, 20, 30)\n"
          ]
        }
      ]
    },
    {
      "cell_type": "code",
      "source": [
        "#Access the first element of the tuple ('apple', 'banana', 'cherry'):\n",
        "fruits = ('apple', 'banana', 'cherry')\n",
        "print(fruits[0])\n"
      ],
      "metadata": {
        "colab": {
          "base_uri": "https://localhost:8080/"
        },
        "id": "v7yj1i3suly4",
        "outputId": "d9cefb0e-d9b9-4a6c-d631-9ff5869943f3"
      },
      "execution_count": 20,
      "outputs": [
        {
          "output_type": "stream",
          "name": "stdout",
          "text": [
            "apple\n"
          ]
        }
      ]
    },
    {
      "cell_type": "code",
      "source": [
        "#Count how many times 2 appears in the tuple (1, 2, 3, 2, 4, 2):\n",
        "numbers = (1, 2, 3, 2, 4, 2)\n",
        "print(numbers.count(2))\n"
      ],
      "metadata": {
        "colab": {
          "base_uri": "https://localhost:8080/"
        },
        "id": "WXZDwsDjutAj",
        "outputId": "0b0a4724-48b5-42c5-897c-ca97c6bbd8bf"
      },
      "execution_count": 21,
      "outputs": [
        {
          "output_type": "stream",
          "name": "stdout",
          "text": [
            "3\n"
          ]
        }
      ]
    },
    {
      "cell_type": "code",
      "source": [
        "#Find the index of \"cat\" in the tuple ('dog', 'cat', 'rabbit'):\n",
        "animals = ('dog', 'cat', 'rabbit')\n",
        "print(animals.index('cat'))\n"
      ],
      "metadata": {
        "colab": {
          "base_uri": "https://localhost:8080/"
        },
        "id": "bkdLWQZNuw_j",
        "outputId": "b0602eee-1b4b-437c-93f8-1eb16da3f3ef"
      },
      "execution_count": 22,
      "outputs": [
        {
          "output_type": "stream",
          "name": "stdout",
          "text": [
            "1\n"
          ]
        }
      ]
    },
    {
      "cell_type": "code",
      "source": [
        "#Check if \"banana\" is in the tuple ('apple', 'orange', 'banana'):\n",
        "fruits = ('apple', 'orange', 'banana')\n",
        "print('banana' in fruits)\n"
      ],
      "metadata": {
        "colab": {
          "base_uri": "https://localhost:8080/"
        },
        "id": "wyQOAKlVu0bz",
        "outputId": "c601630e-9e95-4180-f6fa-6e42e18698d4"
      },
      "execution_count": 23,
      "outputs": [
        {
          "output_type": "stream",
          "name": "stdout",
          "text": [
            "True\n"
          ]
        }
      ]
    },
    {
      "cell_type": "code",
      "source": [
        "#Create a set with elements 1, 2, 3, 4, 5 and print it:\n",
        "my_set = {1, 2, 3, 4, 5}\n",
        "print(my_set)\n"
      ],
      "metadata": {
        "colab": {
          "base_uri": "https://localhost:8080/"
        },
        "id": "R8SYSx0wu4Vk",
        "outputId": "445e334f-9bec-438b-92f4-acd43a26fd9c"
      },
      "execution_count": 24,
      "outputs": [
        {
          "output_type": "stream",
          "name": "stdout",
          "text": [
            "{1, 2, 3, 4, 5}\n"
          ]
        }
      ]
    },
    {
      "cell_type": "code",
      "source": [
        "#Add 6 to the set {1, 2, 3, 4}:\n",
        "my_set = {1, 2, 3, 4}\n",
        "my_set.add(6)\n",
        "print(my_set)"
      ],
      "metadata": {
        "colab": {
          "base_uri": "https://localhost:8080/"
        },
        "id": "J5JZncC_u78c",
        "outputId": "18b8734b-828a-40b0-b814-e08c7d336e05"
      },
      "execution_count": 25,
      "outputs": [
        {
          "output_type": "stream",
          "name": "stdout",
          "text": [
            "{1, 2, 3, 4, 6}\n"
          ]
        }
      ]
    }
  ]
}